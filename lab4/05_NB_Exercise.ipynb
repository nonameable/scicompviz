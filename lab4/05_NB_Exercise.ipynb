{
 "cells": [
  {
   "cell_type": "markdown",
   "metadata": {},
   "source": [
    "<img src=\"imgs/header.png\">"
   ]
  },
  {
   "cell_type": "markdown",
   "metadata": {},
   "source": [
    "## Visualization techniques for scalar fields in VTK + Python\n",
    "## Goals \n",
    "* Inspect VTK Objects via the qtconsole for Jupyter (using the magic `%qtconsole`)\n",
    "* Including a new filter, mapper, and actor to visualize the complete/partial mesh \n",
    "* Computing new data arrays using the `vtkCalculator()` \n",
    "* Performing data transformations: from rectilinear grid to unstructured grid and image data\n",
    "* Data filtering\n",
    "* Visualizing scalar fields using, points, surfaces, isosurfaces, and volume rendering \n",
    "    * Basics of transfer functions\n",
    "    "
   ]
  },
  {
   "cell_type": "markdown",
   "metadata": {},
   "source": [
    "# Challenge 1: Adding a new Filter+Mapper+Actor to visualize the grid \n",
    "Try to find out how to visualize the mesh structure (grid). Take a look at [RectilinearGrid.py](http://www.vtk.org/Wiki/VTK/Examples/Python/RectilinearGrid/vtkRectilinearGrid) example from the VTK wiki."
   ]
  },
  {
   "cell_type": "code",
   "execution_count": 1,
   "metadata": {
    "collapsed": false
   },
   "outputs": [],
   "source": [
    "import vtk\n",
    "#help(vtk.vtkRectilinearGridReader())\n",
    "\n",
    "rectGridReader = vtk.vtkRectilinearGridReader()\n",
    "rectGridReader.SetFileName(\"data/jet4_0.500.vtk\")\n",
    "# do not forget to call \"Update()\" at the end of the reader\n",
    "rectGridReader.Update()"
   ]
  },
  {
   "cell_type": "code",
   "execution_count": 2,
   "metadata": {
    "collapsed": true
   },
   "outputs": [],
   "source": [
    "rectGridOutline = vtk.vtkRectilinearGridOutlineFilter()\n",
    "rectGridOutline.SetInputData(rectGridReader.GetOutput())\n",
    "\n",
    "# New vtkRectilinearGridGeometryFilter() goes here:\n",
    "rectGridFilter = vtk.vtkRectilinearGridGeometryFilter() \n",
    "rectGridFilter.SetInputData(rectGridReader.GetOutput())\n",
    "# \n",
    "#\n",
    "\n",
    "rectGridOutlineMapper = vtk.vtkPolyDataMapper()\n",
    "rectGridOutlineMapper.SetInputConnection(rectGridOutline.GetOutputPort())\n",
    "\n",
    "rectGridGeomMapper = vtk.vtkPolyDataMapper()\n",
    "rectGridGeomMapper.SetInputConnection(rectGridFilter.GetOutputPort()) # added line\n",
    "\n",
    "outlineActor = vtk.vtkActor()\n",
    "outlineActor.SetMapper(rectGridOutlineMapper)\n",
    "outlineActor.GetProperty().SetColor(0, 0, 3) # changed the color to blue\n",
    "\n",
    "gridGeomActor = vtk.vtkActor()\n",
    "gridGeomActor.SetMapper(rectGridGeomMapper)\n",
    "# Find out how to visualize this as a wireframe \n",
    "gridGeomActor.GetProperty().SetRepresentationToWireframe()\n",
    "# Play with the options you get for setting up actor properties (color, opacity, etc.)\n",
    "\n",
    "gridGeomActor.GetProperty().SetColor(0, 0, 0) # changed the color to a red \n",
    "gridGeomActor.GetProperty().SetOpacity(0.5);\n",
    "\n",
    "\n",
    "\n",
    "# Create the usual rendering stuff.\n",
    "\n",
    "renderer = vtk.vtkRenderer()\n",
    "renWin = vtk.vtkRenderWindow()\n",
    "renWin.AddRenderer(renderer)\n",
    "iren = vtk.vtkRenderWindowInteractor()\n",
    "iren.SetRenderWindow(renWin)\n",
    " \n",
    "renderer.AddActor(outlineActor)\n",
    "renderer.AddActor(gridGeomActor)\n",
    "renderer.SetBackground(0, 0, 0)\n",
    "renderer.ResetCamera()\n",
    "renderer.GetActiveCamera().Elevation(60.0)\n",
    "renderer.GetActiveCamera().Azimuth(30.0)\n",
    "renderer.GetActiveCamera().Zoom(1.0)\n",
    " \n",
    "renWin.SetSize(300, 300)\n",
    " \n",
    "# interact with data uncomment this line to see partial result\n",
    "#renWin.Render()\n",
    "#iren.Start()\n"
   ]
  },
  {
   "cell_type": "markdown",
   "metadata": {},
   "source": [
    "#### Result\n",
    "I set the Rectilinear grid to a red color to prove and see that it covered the whole outline (in blue)\n",
    "<img src=\"./hw_4_challenge1.png\">\n"
   ]
  },
  {
   "cell_type": "markdown",
   "metadata": {},
   "source": [
    "# Challenge 2: Using the vtkCalulator to compute the vector magnitude\n",
    "As you should have noticed our data set has only one point data array named vectors. We need now to use this array to calculate the magnitude of the vectors at each point of the grid. We will do this by using the [vtk.vtkArrayCalculator()](http://www.vtk.org/doc/nightly/html/classvtkArrayCalculator.html)."
   ]
  },
  {
   "cell_type": "code",
   "execution_count": 3,
   "metadata": {
    "collapsed": true
   },
   "outputs": [],
   "source": [
    "#%qtconsole\n",
    "\n",
    "magnitudeCalcFilter = vtk.vtkArrayCalculator()\n",
    "magnitudeCalcFilter.SetInputConnection(rectGridReader.GetOutputPort())\n",
    "magnitudeCalcFilter.AddVectorArrayName('vectors')\n",
    "# Set up here the array that is going to be used for the computation ('vectors')\n",
    "magnitudeCalcFilter.SetResultArrayName('magnitude')\n",
    "magnitudeCalcFilter.SetFunction(\"mag(vectors)\")\n",
    "# Set up here the function that calculates the magnitude of a vector\n",
    "magnitudeCalcFilter.Update()\n",
    "\n",
    "#Inspect the output of the calculator using the IPython console to verify the result"
   ]
  },
  {
   "cell_type": "markdown",
   "metadata": {},
   "source": [
    "#### Result\n",
    "<img src=\"./hw_4_challenge2.png\">"
   ]
  },
  {
   "cell_type": "markdown",
   "metadata": {
    "collapsed": true
   },
   "source": [
    "# Challenge 3: Visualize the data set as colored points based on the \"magnitude\" value\n",
    "Take a look at the [`subset`](http://www.vtk.org/doc/nightly/html/classvtkMaskPoints.html) object. What happens when you change the SetOnRadio parameter? Try out changing between different `RandomModeType` options. What does the `SetScalarModeToUsePointData()` function does?"
   ]
  },
  {
   "cell_type": "code",
   "execution_count": 4,
   "metadata": {
    "collapsed": true
   },
   "outputs": [],
   "source": [
    "#Extract the data from the result of the vtkCalculator\n",
    "points = vtk.vtkPoints()\n",
    "grid = magnitudeCalcFilter.GetOutput()\n",
    "grid.GetPoints(points)\n",
    "scalars = grid.GetPointData().GetArray('magnitude')\n",
    "\n",
    "#Create an unstructured grid that will contain the points and scalars data\n",
    "ugrid = vtk.vtkUnstructuredGrid()\n",
    "ugrid.SetPoints(points)\n",
    "ugrid.GetPointData().SetScalars(scalars)\n",
    "\n",
    "#Populate the cells in the unstructured grid using the output of the vtkCalculator\n",
    "for i in range (0, grid.GetNumberOfCells()):\n",
    "    cell = grid.GetCell(i)\n",
    "    ugrid.InsertNextCell(cell.GetCellType(), cell.GetPointIds())"
   ]
  },
  {
   "cell_type": "code",
   "execution_count": 5,
   "metadata": {
    "collapsed": true
   },
   "outputs": [],
   "source": [
    "#There are too many points, let's filter the points\n",
    "subset = vtk.vtkMaskPoints()\n",
    "subset.SetOnRatio(5)\n",
    "subset.RandomModeOn()\n",
    "subset.SetRandomModeType(1)\n",
    "subset.SetInputData(ugrid)\n",
    "\n",
    "#Make a vtkPolyData with a vertex on each point.\n",
    "pointsGlyph = vtk.vtkVertexGlyphFilter()\n",
    "pointsGlyph.SetInputConnection(subset.GetOutputPort())\n",
    "#pointsGlyph.SetInputData(ugrid)\n",
    "pointsGlyph.Update()\n",
    "\n",
    "pointsMapper = vtk.vtkPolyDataMapper()\n",
    "pointsMapper.SetInputConnection(pointsGlyph.GetOutputPort())\n",
    "pointsMapper.SetScalarModeToUsePointData()\n",
    "\n",
    "pointsActor = vtk.vtkActor()\n",
    "pointsActor.SetMapper(pointsMapper)\n",
    "renderer.AddActor(pointsActor)\n",
    "\n",
    "# interact with data uncomment this lines to see partial result\n",
    "#renWin.Render()\n",
    "#iren.Start()"
   ]
  },
  {
   "cell_type": "markdown",
   "metadata": {},
   "source": [
    "#### Result\n",
    "<img src=\"./hw_4_challenge3.png\">\n",
    "#### Questions\n",
    "**What happens when you change the SetOnRadio parameter?**\n",
    "\n",
    "The result in the image above is when we call the function with a parameter = 50. If we call it with a value of 500, we get the following result:\n",
    "\n",
    "\n",
    "<img src=\"./hw_4_challenge3_q1-with500.png\">\n",
    "\n",
    "Now, lets try to reduce the parameter to a value of 5. The result is the following:\n",
    "\n",
    "<img src=\"./hw_4_challenge3_q1-with5.png\">\n",
    "\n",
    "In conclusion, the smaller the value for the function, the better we can visualize our scalar field. Lets take another view at that visualization from another angle:\n",
    "\n",
    "<img src=\"./hw_4_challenge3_q1-with5v2.png\">\n",
    "\n",
    "**Try out changing between different `RandomModeType` options.**\n",
    "\n",
    "This function allows us to change the the random selection of the points using three possible options. The first one is the default one, so I would not show it again. I will try the next two.\n",
    "\n",
    "According to the docs:\n",
    "\n",
    " 1 - random sample: create a statistically random sample using Vitter's incremental algorithm D without A described in Vitter \"Faster Mthods for Random Sampling\", Communications of the ACM Volume 27, Issue 7, 1984 (OnRatio and Offset are ignored) O(sample size) \n",
    " \n",
    " <img src=\"./hw_4_challenge3_q2-with1.png\">\n",
    " \n",
    " 2 - spatially stratified random sample: create a spatially stratified random sample using the first method described in Woodring et al. \"In-situ Sampling of a Large-Scale Particle Simulation for Interactive Visualization and Analysis\", Computer Graphics Forum, 2011 (EuroVis 2011). (OnRatio and Offset are ignored) O(N log N)\n",
    " \n",
    " <img src=\"./hw_4_challenge3_q2-with2.png\">\n",
    "\n",
    "**What does the `SetScalarModeToUsePointData()` function does?**\n",
    "\n",
    "Refering to the docs: \n",
    "\n",
    "Control how the filter works with scalar point data and cell attribute data.\n",
    "\n",
    "By default (ScalarModeToDefault), the filter will use point data, and if no point data is available, then cell data is used. Alternatively you can explicitly set the filter to use point data (ScalarModeToUsePointData) or cell data (ScalarModeToUseCellData).\n",
    "\n",
    "This means that this functions allows us to associate the points with the scalars, in order to build the scalar field we then visualize."
   ]
  },
  {
   "cell_type": "markdown",
   "metadata": {},
   "source": [
    "# Challenge 4: Visualize the data set as isosurfaces based on the \"magnitude\" value\n",
    "Go to the documentation of vtkContourFilter and explain what does the GenerateValues() do?  Inspect the scalarRange of the magnitude array. What happens when you change these values in the function?"
   ]
  },
  {
   "cell_type": "markdown",
   "metadata": {},
   "source": [
    "#### Result\n",
    "\n",
    "Here you can appreciate the visualization form multiple angle\n",
    "\n",
    "<img src=\"./hw_4_challenge4-1.png\">\n",
    "<img src=\"./hw_4_challenge4-2.png\">\n",
    "<img src=\"./hw_4_challenge4-3.png\">\n",
    "<img src=\"./hw_4_challenge4-4.png\">\n",
    "<img src=\"./hw_4_challenge4-5.png\">\n",
    "\n",
    "#### Questions\n",
    "\n",
    "** Go to the documentation of vtkContourFilter and explain what does the GenerateValues() do? **\n",
    "\n",
    "Generate numContours equally spaced contour values between specified range. You can increase or decrease the number.\n",
    "Be careful when you do that, a really big number could make the filter take too long to compute. As an exaple, this took 20 seconds to render in a 8 GB RAM quadcore core-i7 processor: \n",
    "\n",
    "<img src=\"./hw_4_challenge4-isolines100-1.png\">\n",
    "<img src=\"./hw_4_challenge4-isolines100-2.png\">\n",
    "<img src=\"./hw_4_challenge4-isolines100-3.png\">\n",
    "\n",
    "** Inspect the scalarRange of the magnitude array. What happens when you change these values in the function? **\n",
    "\n",
    "We omit some part of the range, therefore, we are missing some information since there are vectors whose magnitude is otuside the specified range. For a new newScalarRange = (5.7123318, 9.7623123), we get the following result:\n",
    "\n",
    "\n",
    "<img src=\"./hw_4_challenge4-newrange.png\">"
   ]
  },
  {
   "cell_type": "code",
   "execution_count": 6,
   "metadata": {
    "collapsed": false
   },
   "outputs": [
    {
     "name": "stdout",
     "output_type": "stream",
     "text": [
      "(0.0035992244084406, 13.617075196155374)\n"
     ]
    }
   ],
   "source": [
    "scalarRange = ugrid.GetPointData().GetScalars().GetRange()\n",
    "print(scalarRange)\n",
    "\n",
    "\n",
    "\n",
    "isoFilter = vtk.vtkContourFilter()\n",
    "isoFilter.SetInputData(ugrid)\n",
    "isoFilter.GenerateValues(10, scalarRange) \n",
    "\n",
    "# you may change scalarRange for newScalarRange to see the result\n",
    "#newScalarRange = (5.7123318, 9.7623123)\n",
    "#isoFilter.GenerateValues(10, newScalarRange) \n",
    "\n",
    "\n",
    "isoMapper = vtk.vtkPolyDataMapper()\n",
    "isoMapper.SetInputConnection(isoFilter.GetOutputPort())\n",
    "\n",
    "isoActor = vtk.vtkActor()\n",
    "isoActor.SetMapper(isoMapper)\n",
    "isoActor.GetProperty().SetOpacity(0.5)"
   ]
  },
  {
   "cell_type": "markdown",
   "metadata": {},
   "source": [
    "# An alternative to define colormaps "
   ]
  },
  {
   "cell_type": "code",
   "execution_count": 7,
   "metadata": {
    "collapsed": true
   },
   "outputs": [],
   "source": [
    "subset = vtk.vtkMaskPoints()\n",
    "subset.SetOnRatio(10)\n",
    "subset.RandomModeOn()\n",
    "subset.SetInputConnection(rectGridReader.GetOutputPort())\n",
    "\n",
    "#vtk.vtkColorTransferFunction()\n",
    "#vtk.vtkLookupTable()\n",
    "lut = vtk.vtkLookupTable()\n",
    "lut.SetNumberOfColors(256)\n",
    "lut.SetHueRange(0.667, 0.0)\n",
    "lut.SetVectorModeToMagnitude()\n",
    "lut.Build()\n",
    "\n",
    "hh = vtk.vtkHedgeHog()\n",
    "hh.SetInputConnection(subset.GetOutputPort())\n",
    "hh.SetScaleFactor(0.001)\n",
    "\n",
    "hhm = vtk.vtkPolyDataMapper()\n",
    "hhm.SetInputConnection(hh.GetOutputPort())\n",
    "hhm.SetLookupTable(lut)\n",
    "hhm.SetScalarVisibility(True)\n",
    "hhm.SetScalarModeToUsePointFieldData()\n",
    "hhm.SelectColorArray('vectors')\n",
    "hhm.SetScalarRange((rectGridReader.GetOutput().GetPointData().GetVectors().GetRange(-1)))\n",
    "\n",
    "hha = vtk.vtkActor()\n",
    "hha.SetMapper(hhm)"
   ]
  },
  {
   "cell_type": "markdown",
   "metadata": {},
   "source": [
    "### Renderer, render window, and interactor "
   ]
  },
  {
   "cell_type": "code",
   "execution_count": 8,
   "metadata": {
    "collapsed": true
   },
   "outputs": [],
   "source": [
    "#Option 1: Default vtk render window\n",
    "renderer = vtk.vtkRenderer()\n",
    "renderer.SetBackground(0.5, 0.5, 0.5)\n",
    "renderer.AddActor(outlineActor)\n",
    "renderer.AddActor(isoActor)\n",
    "renderer.ResetCamera()\n",
    "\n",
    "renderWindow = vtk.vtkRenderWindow()\n",
    "renderWindow.AddRenderer(renderer)\n",
    "renderWindow.SetSize(500, 500)\n",
    "renderWindow.Render()\n",
    "\n",
    "iren = vtk.vtkRenderWindowInteractor()\n",
    "iren.SetRenderWindow(renderWindow)\n",
    "iren.Start()"
   ]
  },
  {
   "cell_type": "code",
   "execution_count": null,
   "metadata": {
    "collapsed": true
   },
   "outputs": [],
   "source": []
  }
 ],
 "metadata": {
  "kernelspec": {
   "display_name": "Python [sci]",
   "language": "python",
   "name": "Python [sci]"
  },
  "language_info": {
   "codemirror_mode": {
    "name": "ipython",
    "version": 3
   },
   "file_extension": ".py",
   "mimetype": "text/x-python",
   "name": "python",
   "nbconvert_exporter": "python",
   "pygments_lexer": "ipython3",
   "version": "3.6.1"
  }
 },
 "nbformat": 4,
 "nbformat_minor": 2
}
