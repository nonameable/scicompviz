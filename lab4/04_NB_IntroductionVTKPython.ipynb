{
 "cells": [
  {
   "cell_type": "markdown",
   "metadata": {},
   "source": [
    "<img src=\"imgs/header.png\">"
   ]
  },
  {
   "cell_type": "markdown",
   "metadata": {},
   "source": [
    "## Introduction to [VTK](http://www.vtk.org) + Python"
   ]
  },
  {
   "cell_type": "markdown",
   "metadata": {},
   "source": [
    "### 1. The VTK pipeline\n",
    "\n",
    "<img src=\"imgs/vtk_pipeline.png\" align=\"left\">\n",
    "$~$\n",
    "\n",
    "#### VTK pipeline example in Python\n",
    "A simple example of a vtk pipeline in Python. This pipeline renders a red cube within an interactive `vtkRenderWindow` (basic interaction controlls --zoom, pan, rotate-- are enabled via the `vtkRenderWindowInteractor`). In this case we use the `vtkCubeSource` which generates the basic description of a cube (vertices and cells --or faces--). Other typical sources/primitives provided by vtk are: `vtkConeSource`, `vtkSphereSource`, and `vtkArrowSource` among others.\n",
    "\n",
    "\n",
    "<img src=\"imgs/pipeline_simple.png\" width=\"800\">\n",
    "\n",
    "<font color='red'>__Further exploration:__</font> Go to the vtk online documentation and check which other sources are available! [here](http://www.vtk.org/doc/nightly/html/classvtkConeSource.html)"
   ]
  },
  {
   "cell_type": "markdown",
   "metadata": {},
   "source": [
    "### 2. Creating your own pipeline"
   ]
  },
  {
   "cell_type": "code",
   "execution_count": 1,
   "metadata": {
    "collapsed": true
   },
   "outputs": [],
   "source": [
    "import vtk"
   ]
  },
  {
   "cell_type": "code",
   "execution_count": 2,
   "metadata": {
    "collapsed": true
   },
   "outputs": [],
   "source": [
    "# create a rendering window and renderer\n",
    "renderer = vtk.vtkRenderer()\n",
    "renderer.SetBackground(0.5, 1.0, 0.5)\n",
    "\n",
    "renderWindow = vtk.vtkRenderWindow()\n",
    "renderWindow.SetSize(500, 500)\n",
    "renderWindow.AddRenderer(renderer)\n",
    "renderWindow.Render()"
   ]
  },
  {
   "cell_type": "code",
   "execution_count": 2,
   "metadata": {
    "collapsed": true
   },
   "outputs": [],
   "source": [
    "# create a data source\n",
    "cube = vtk.vtkCubeSource()\n",
    "\n",
    "# mapper\n",
    "cubeMapper = vtk.vtkPolyDataMapper()\n",
    "cubeMapper.SetInputConnection(cube.GetOutputPort())\n",
    "\n",
    "# actor\n",
    "cubeActor = vtk.vtkActor()\n",
    "cubeActor.SetMapper(cubeMapper)\n",
    "cubeActor.GetProperty().SetColor(1, 0, 0)\n",
    "\n",
    "# create a rendering window and renderer\n",
    "renderer = vtk.vtkRenderer()\n",
    "renderer.SetBackground(0.5, 0.5, 0.5)\n",
    "renderer.AddActor(cubeActor)\n",
    "\n",
    "renderWindow = vtk.vtkRenderWindow()\n",
    "renderWindow.SetSize(500, 500)\n",
    "renderWindow.AddRenderer(renderer)\n",
    "renderWindow.Render()\n",
    "\n",
    "# create and enable a renderWindowInteractor\n",
    "iren = vtk.vtkRenderWindowInteractor()\n",
    "iren.SetRenderWindow(renderWindow)\n",
    "iren.Start()"
   ]
  },
  {
   "cell_type": "markdown",
   "metadata": {},
   "source": [
    "### 3. VTK Data Objects"
   ]
  },
  {
   "cell_type": "markdown",
   "metadata": {},
   "source": [
    "<img src=\"imgs/vtk_data_objects.png\" width=\"800\" align=\"left\">\n",
    "$~$"
   ]
  },
  {
   "cell_type": "markdown",
   "metadata": {},
   "source": [
    "### A closer look to a VTK file (ASCII)\n",
    "#### Polygonal data\n",
    "$~$\n",
    "<img src=\"imgs/vtk_data_polydata.png\" width=\"800\" align=\"left\">"
   ]
  },
  {
   "cell_type": "markdown",
   "metadata": {},
   "source": [
    "#### Unstructured data\n",
    "$~$\n",
    "<img src=\"imgs/vtk_data_cell_types.png\" width=\"800\" align=\"left\">\n",
    "$~$"
   ]
  },
  {
   "cell_type": "markdown",
   "metadata": {},
   "source": [
    "<font color='red'>__Task:__</font> Go ahead and open in a text editor the files `exercise_op1.vtk` and `exercise_op2.vtk`. These are two different approaches to represent the unstructured grid displayed above using different cell types."
   ]
  },
  {
   "cell_type": "markdown",
   "metadata": {},
   "source": [
    "### VTK-viewer module for Jupyter Notebook"
   ]
  },
  {
   "cell_type": "code",
   "execution_count": 4,
   "metadata": {
    "collapsed": true
   },
   "outputs": [],
   "source": [
    "#Source: https://gitlab.com/colonel_zentor/vtk-viewer\n",
    "\n",
    "%gui qt\n",
    "import vtk\n",
    "from vtkviewer import SimpleVtkViewer, create_test_actor\n",
    "\n",
    "vtkSourceSphere = vtk.vtkSphereSource()\n",
    "vtkSourceSphere.SetCenter(0.0, 0.0, 0.0)\n",
    "vtkSourceSphere.SetRadius(10.0)\n",
    "vtkSourceSphere.SetPhiResolution(60)\n",
    "vtkSourceSphere.SetThetaResolution(60)\n",
    "\n",
    "vtkMapperSphere = vtk.vtkPolyDataMapper()\n",
    "vtkMapperSphere.SetInputConnection(vtkSourceSphere.GetOutputPort())\n",
    "\n",
    "vtkActorSphere = vtk.vtkActor()\n",
    "vtkActorSphere.SetMapper(vtkMapperSphere)\n",
    "vtkActorSphere.GetProperty().SetColor(1.0, 0.0, 0.0)\n",
    "\n",
    "vtkSimpleWin = SimpleVtkViewer()\n",
    "vtkSimpleWin.add_actor(vtkActorSphere)\n",
    "vtkSimpleWin.hide_axes()"
   ]
  },
  {
   "cell_type": "code",
   "execution_count": 5,
   "metadata": {
    "collapsed": true
   },
   "outputs": [],
   "source": [
    "vtkActorSphere.GetProperty().SetColor(1.0, 1.0, 0.0)"
   ]
  },
  {
   "cell_type": "code",
   "execution_count": 6,
   "metadata": {
    "collapsed": true
   },
   "outputs": [],
   "source": [
    "vtkActorSphere.GetProperty().SetRepresentationToWireframe()"
   ]
  },
  {
   "cell_type": "code",
   "execution_count": 7,
   "metadata": {
    "collapsed": true
   },
   "outputs": [],
   "source": [
    "vtkSimpleWin.clear_view()"
   ]
  },
  {
   "cell_type": "code",
   "execution_count": 8,
   "metadata": {
    "collapsed": true
   },
   "outputs": [],
   "source": [
    "vtkSimpleWin.add_actor(vtkActorSphere)"
   ]
  },
  {
   "cell_type": "markdown",
   "metadata": {
    "collapsed": true
   },
   "source": [
    "<font color='red'>__Further exploration:__</font> Notebook example using this module [here](https://gitlab.com/colonel_zentor/vtk-viewer/blob/master/notebooks/VTK_Viewer_Example.ipynb)\n",
    "<font color='red'>__Task:__</font> Use this module to build the pipeline in section 2 stepwise, try changing parameters, sources, etc."
   ]
  },
  {
   "cell_type": "markdown",
   "metadata": {},
   "source": [
    "### Embedding VTK Renders in Jupyter Notebook"
   ]
  },
  {
   "cell_type": "code",
   "execution_count": 3,
   "metadata": {},
   "outputs": [
    {
     "data": {
      "image/png": "[encoded data removed]",
      "text/plain": [
       "<IPython.core.display.Image object>"
      ]
     },
     "execution_count": 3,
     "metadata": {},
     "output_type": "execute_result"
    }
   ],
   "source": [
    "# Original source: http://nbviewer.jupyter.org/gist/certik/5723420\n",
    "# An explained version of this code: https://pyscience.wordpress.com/2014/09/03/ipython-notebook-vtk/\n",
    "\n",
    "import vtk\n",
    "from IPython.display import Image\n",
    "def vtk_show(renderer, width=400, height=300):\n",
    "    \"\"\"\n",
    "    Takes vtkRenderer instance and returns an IPython Image with the rendering.\n",
    "    \"\"\"\n",
    "    renderWindow = vtk.vtkRenderWindow()\n",
    "    renderWindow.SetOffScreenRendering(1)\n",
    "    renderWindow.AddRenderer(renderer)\n",
    "    renderWindow.SetSize(width, height)\n",
    "    renderWindow.Render()\n",
    "     \n",
    "    windowToImageFilter = vtk.vtkWindowToImageFilter()\n",
    "    windowToImageFilter.SetInput(renderWindow)\n",
    "    windowToImageFilter.Update()\n",
    "     \n",
    "    writer = vtk.vtkPNGWriter()\n",
    "    writer.SetWriteToMemory(1)\n",
    "    writer.SetInputConnection(windowToImageFilter.GetOutputPort())\n",
    "    writer.Write()\n",
    "    data = bytes(memoryview(writer.GetResult()))\n",
    "    \n",
    "    return Image(data)\n",
    "\n",
    "vtkSourceSphere = vtk.vtkSphereSource()\n",
    "vtkSourceSphere.SetCenter(0.0, 0.0, 0.0)\n",
    "vtkSourceSphere.SetRadius(10.0)\n",
    "vtkSourceSphere.SetPhiResolution(10)\n",
    "vtkSourceSphere.SetThetaResolution(10)\n",
    "\n",
    "vtkMapperSphere = vtk.vtkPolyDataMapper()\n",
    "vtkMapperSphere.SetInputConnection(vtkSourceSphere.GetOutputPort())\n",
    "\n",
    "vtkActorSphere = vtk.vtkActor()\n",
    "vtkActorSphere.SetMapper(vtkMapperSphere)\n",
    "vtkActorSphere.GetProperty().SetColor(1.0, 0.0, 0.0)\n",
    "\n",
    "vtkRenderer = vtk.vtkRenderer()\n",
    "vtkRenderer.SetBackground(1.0, 1.0, 1.0)\n",
    "vtkRenderer.AddActor(vtkActorSphere)\n",
    "\n",
    "vtk_show(vtkRenderer, width=500, height=500)"
   ]
  },
  {
   "cell_type": "code",
   "execution_count": null,
   "metadata": {
    "collapsed": true
   },
   "outputs": [],
   "source": []
  }
 ],
 "metadata": {
  "kernelspec": {
   "display_name": "Python 3",
   "language": "python",
   "name": "python3"
  },
  "language_info": {
   "codemirror_mode": {
    "name": "ipython",
    "version": 3
   },
   "file_extension": ".py",
   "mimetype": "text/x-python",
   "name": "python",
   "nbconvert_exporter": "python",
   "pygments_lexer": "ipython3",
   "version": "3.6.1"
  }
 },
 "nbformat": 4,
 "nbformat_minor": 2
}
