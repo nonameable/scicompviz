{
 "cells": [
  {
   "cell_type": "markdown",
   "metadata": {},
   "source": [
    "<img src=\"imgs/header.png\">"
   ]
  },
  {
   "cell_type": "markdown",
   "metadata": {},
   "source": [
    "# Overview of the tools!\n",
    "\n",
    "\n",
    "## Why Python?\n",
    "\n",
    "Some features of [Python](http://www.python.org/):\n",
    "* general purpose\n",
    "* code readability\n",
    "* high-level programming language\n",
    "* object-oriented\n",
    "* interpreted\n",
    "* dynamically typed\n",
    "* automatic memory management\n",
    "\n",
    "What makes Python suitable for scientific computing applications is the relatively low development time, large community and documentation, and a wide variety of scientific libraries and environments available.\n",
    "\n",
    "## Installation\n",
    "\n",
    "In this course we are going to use Anaconda distribution (for Python 3.6). Anaconda is a free, easy-to-install package manager, environment manager, Python distribution that includes some of the most used Python packages (e.g., numpy, scypy, matplotlib among others.). It is available for multiple platforms and can be downloaded from this website: <https://docs.continuum.io/anaconda/install>\n",
    "\n",
    "We will use the following packages for the practical sessions:\n",
    "\n",
    "**Environments.** Jupyter and Spyder <br>\n",
    "**Modules.** numpy, scipy, matplotlib <br>\n",
    "\n",
    "\n",
    "### Additional packages\n",
    "\n",
    "**VTK for Windows**<br>\n",
    "The easiest way to get the latest version of VTK (*VTK 7.1.1-cp36-cp36m-win_XX.whl*) is to use the precompiled wheel file available at: <http://www.lfd.uci.edu/~gohlke/pythonlibs/#vtk>. Once you download the .whl file, open a comand promt and type:\n",
    "\n",
    "    pip install wheel_file.whl\n",
    "\n",
    "**VTK-viewer for Jupyter**<br>\n",
    "This module enables the interactive manipulation of a vtk renderer from the Jupyter environment. The documentation of this module is available at: https://gitlab.com/colonel_zentor/vtk-viewer. Similarly than the VTK library installation, this module can be installed throught a pip command. To do this, open a command promt and type: \n",
    "    \n",
    "    pip install git+https://gitlab.com/colonel_zentor/vtk-viewer.git \n",
    "\n",
    "\n",
    "\n",
    "After installation, verify that the new package is included in the list of available packages. In the same comand promt window type:\n",
    "\n",
    "    pip list\n",
    "\n",
    "now the VTK module should appear in the list. \n",
    "\n",
    "<img src=\"imgs/pip_list.png\">"
   ]
  },
  {
   "cell_type": "markdown",
   "metadata": {},
   "source": [
    "## Environments\n",
    "\n",
    "<!--\n",
    "Interpreter: Use directly Python interpeter via the command line. In the command line type: python path-to-python-script.py \n",
    "IPython: \n",
    "/--> \n",
    "\n",
    "### Jupyter Notebook\n",
    "[Jupyter Notebook](http://jupyter.org/) is a web application that allows the creation and sharing of documents that contain data in a variety of formats inluding live code in multiple languages, visualizations, text, etc. For example this document has been created using Jupyter Notebook!. \n",
    "\n",
    "Try creating your own local folder for your Jupyter notebooks. Then from your notebooks folder run a command prompt and type:\n",
    "\n",
    "    D:\\JupyterNotebooks> jupyter notebook\n",
    "\n",
    "<img src=\"imgs/jupyter.PNG\">\n",
    "   \n",
    "\n",
    "### IPython\n",
    "\n",
    "Interactive shell for Python interpreter. It allows the exploration of command history, tab auto-completion, etc.\n",
    "\n",
    "<img src=\"imgs/ipython.PNG\">\n",
    "\n",
    "### Spyder\n",
    "\n",
    "[Spyder](https://github.com/spyder-ide/spyder) is free and open-source  Scientific PYthon Development EnviRonment included in the Anaconda distribution. All the code editing, execution and debugging can be done from this environment.\n",
    "\n",
    "<img src=\"imgs/spyder.PNG\">\n"
   ]
  },
  {
   "cell_type": "markdown",
   "metadata": {},
   "source": [
    "## Other tools\n",
    "\n",
    "* [Paraview](https://www.paraview.org/): open-source, multi-platform data analysis and visualization\n",
    "* [Salome](http://www.salome-platform.org/): open-source integration software for numerical simulations\n",
    "* [SU2](http://su2.stanford.edu/): open-source CFD code"
   ]
  },
  {
   "cell_type": "code",
   "execution_count": null,
   "metadata": {
    "collapsed": true
   },
   "outputs": [],
   "source": []
  }
 ],
 "metadata": {
  "kernelspec": {
   "display_name": "Python 3",
   "language": "python",
   "name": "python3"
  },
  "language_info": {
   "codemirror_mode": {
    "name": "ipython",
    "version": 3
   },
   "file_extension": ".py",
   "mimetype": "text/x-python",
   "name": "python",
   "nbconvert_exporter": "python",
   "pygments_lexer": "ipython3",
   "version": "3.6.1"
  }
 },
 "nbformat": 4,
 "nbformat_minor": 2
}
