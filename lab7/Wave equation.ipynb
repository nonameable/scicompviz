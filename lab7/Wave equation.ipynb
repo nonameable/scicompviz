{
 "cells": [
  {
   "cell_type": "markdown",
   "metadata": {},
   "source": [
    "## Wave equation\n",
    "Modify the wave equation so that the initial conditions represent a \"motionless string\" and the boundary condition at the left of the domain generates a signal that propagates from left to right."
   ]
  },
  {
   "cell_type": "code",
   "execution_count": 1,
   "metadata": {},
   "outputs": [
    {
     "name": "stdout",
     "output_type": "stream",
     "text": [
      "stability: 0.009999999999999998\n"
     ]
    },
    {
     "data": {
      "image/png": "[encoded data removed]",
      "text/plain": [
       "<matplotlib.figure.Figure at 0x106f037b8>"
      ]
     },
     "metadata": {},
     "output_type": "display_data"
    }
   ],
   "source": [
    "import numpy as np\n",
    "import math\n",
    "import matplotlib.pyplot as plt\n",
    "from matplotlib import animation, rc\n",
    "\n",
    "\n",
    "# define the discretization grid\n",
    "dx = 0.1  # space increment (default 0.1)\n",
    "dt = 0.01 # time increment  (default 0.01)\n",
    "\n",
    "tmin =   0.0  # initial time\n",
    "tmax = 100.0  # final time\n",
    "xmin =  -3.0  # left bound\n",
    "xmax =   3.0  # right bound\n",
    "\n",
    "nx = int((xmax-xmin)/dx) + 1 # number of points on x grid\n",
    "nt = int((tmax-tmin)/dt) + 2 # number of points on t grid\n",
    "\n",
    "u = np.zeros((nt,nx)) # solution array\n",
    "\n",
    "#set initial pulse shape\n",
    "def init_wave(x):\n",
    "    val = np.exp(-(x**2)/0.25)\n",
    "    if abs(val)<.001:\n",
    "        val = 0.0\n",
    "\n",
    "    return val\n",
    "\n",
    "def init_square(x):\n",
    "    val = 0.0\n",
    "    if abs(x)<0.5:\n",
    "        val = 1.0\n",
    "\n",
    "    return val\n",
    "\n",
    "def init_random(x):\n",
    "    return np.random.rand(1)\n",
    "\n",
    "def step_wave(t):\n",
    "\n",
    "    c = 1.0 # wave speed\n",
    "\n",
    "    if t<2:\n",
    "\n",
    "        print( 'stability:', (c*dt/dx)**2 )\n",
    "\n",
    "        # set initial condition\n",
    "        for i in range(0,nx):\n",
    "            u[t,i] = 0\n",
    "            #u[t,i] = init_wave( xmin + i*dx )\n",
    "\n",
    "    else:\n",
    "        # compute second x-derivative using central differences\n",
    "        ddx = (u[t-1,0:nx-2]-2*u[t-1,1:nx-1]+u[t-1,2:nx])/(dx**2)\n",
    "\n",
    "        # apply second-order central differences in time\n",
    "        u[t,1:nx-1] = 2*u[t-1,1:nx-1] - u[t-2,1:nx-1] + (c*dt)**2 * ddx\n",
    "\n",
    "        # apply boundary conditions\n",
    "        u[t,0]    = np.sin(t*dt*2*math.pi)\n",
    "        u[t,nx-1] = 0\n",
    "\n",
    "    l.set_data(np.linspace(xmin,xmax,nx), u[t,:])\n",
    "    return l,\n",
    "\n",
    "def step_heat(t):\n",
    "\n",
    "    k = 0.4 # diffusion constant\n",
    "\n",
    "    if t<1:\n",
    "\n",
    "        print( 'stability:', k*dt/(dx**2) ) # (c*dt&dx)**2\n",
    "        for i in range(0,nx):\n",
    "            u[t,i] = init_wave( xmin + i*dx )\n",
    "\n",
    "    else:\n",
    "\n",
    "        # compute second x-derivative using central differences\n",
    "        ddx = (u[t-1,0:nx-2]-2*u[t-1,1:nx-1]+u[t-1,2:nx])/(dx**2)\n",
    "\n",
    "        # apply forward differences in time\n",
    "        u[t,1:nx-1] = u[t-1,1:nx-1] + k * dt * ddx\n",
    "\n",
    "        # apply boundary conditions\n",
    "        u[t,0]    = 0.0\n",
    "        u[t,nx-1] = 0.0\n",
    "\n",
    "    l.set_data(np.linspace(xmin,xmax,nx), u[t,:])\n",
    "    return l,\n",
    "\n",
    "fig1 = plt.figure()\n",
    "l, = plt.plot([], [], 'k-')\n",
    "plt.xlim(xmin, xmax)\n",
    "plt.ylim(-1.5, 1.5)\n",
    "plt.xlabel('u')\n",
    "\n",
    "line_ani = animation.FuncAnimation(fig1, step_wave, nt-1, interval=5, repeat=False, blit=True)\n",
    "plt.show()\n"
   ]
  },
  {
   "cell_type": "markdown",
   "metadata": {},
   "source": [
    "## Results\n",
    "\n",
    "Here you can appreciate \n",
    "\n",
    "<img src=\"./waveeqresults/1.png\">\n",
    "<img src=\"./waveeqresults/2.png\">\n",
    "<img src=\"./waveeqresults/3.png\">\n",
    "<img src=\"./waveeqresults/4.png\">\n",
    "<img src=\"./waveeqresults/5.png\">\n",
    "<img src=\"./waveeqresults/6.png\">\n",
    "<img src=\"./waveeqresults/7.png\">\n",
    "<img src=\"./waveeqresults/8.png\">"
   ]
  },
  {
   "cell_type": "code",
   "execution_count": null,
   "metadata": {
    "collapsed": true
   },
   "outputs": [],
   "source": []
  }
 ],
 "metadata": {
  "kernelspec": {
   "display_name": "Python 3",
   "language": "python",
   "name": "python3"
  },
  "language_info": {
   "codemirror_mode": {
    "name": "ipython",
    "version": 3
   },
   "file_extension": ".py",
   "mimetype": "text/x-python",
   "name": "python",
   "nbconvert_exporter": "python",
   "pygments_lexer": "ipython3",
   "version": "3.6.1"
  }
 },
 "nbformat": 4,
 "nbformat_minor": 2
}
