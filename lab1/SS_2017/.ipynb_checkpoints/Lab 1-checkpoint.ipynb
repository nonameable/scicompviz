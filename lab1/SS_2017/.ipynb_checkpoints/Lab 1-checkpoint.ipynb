{
 "cells": [
  {
   "cell_type": "markdown",
   "metadata": {},
   "source": [
    "# Lab 1: Introduction to python"
   ]
  },
  {
   "cell_type": "markdown",
   "metadata": {},
   "source": [
    "## Exercise\n",
    "### 1. Define a function that returns a list of numbers that sum up to 1 \n",
    "\n",
    "* stores every number in a list\n",
    "* generates random numbers between 0.0 and 1.0\n",
    "* keeps a partial sum in `partialSum`, to know when we reach 1.0\n",
    "* If a particular number is bgger than `1 - partialSum`, it omits it\n",
    "* Taking into account that there might be a chance that `partialSum` might never reach 1, I created an escape variable called `iter`, which allows the loop to run at most 100 times.\n",
    "\n"
   ]
  },
  {
   "cell_type": "code",
   "execution_count": 1,
   "metadata": {
    "collapsed": true
   },
   "outputs": [],
   "source": [
    "import random"
   ]
  },
  {
   "cell_type": "code",
   "execution_count": 6,
   "metadata": {
    "collapsed": false
   },
   "outputs": [
    {
     "data": {
      "text/plain": [
       "8"
      ]
     },
     "execution_count": 6,
     "metadata": {},
     "output_type": "execute_result"
    }
   ],
   "source": [
    "random.randint(1,10)"
   ]
  },
  {
   "cell_type": "code",
   "execution_count": 35,
   "metadata": {
    "collapsed": false
   },
   "outputs": [],
   "source": [
    "def listSumOne():\n",
    "    list = []\n",
    "    partialSum = 0\n",
    "    iter  = 0\n",
    "    while partialSum < 1 and iter < 100:\n",
    "        n = random.random()\n",
    "        if n < 1 - partialSum:\n",
    "            partialSum = partialSum + n\n",
    "            list.append(n)\n",
    "        iter  = iter + 1\n",
    "    if partialSum < 1:\n",
    "        list.append(1 - partialSum)\n",
    "    print list\n",
    "    print sum(list)\n",
    "    return list\n",
    "    \n",
    "\n",
    "    "
   ]
  },
  {
   "cell_type": "code",
   "execution_count": 36,
   "metadata": {
    "collapsed": false
   },
   "outputs": [
    {
     "name": "stdout",
     "output_type": "stream",
     "text": [
      "[0.6247475347750203, 0.23922200163992557, 0.12696887281455627, 0.00906159077049784]\n",
      "1.0\n"
     ]
    },
    {
     "data": {
      "text/plain": [
       "[0.6247475347750203,\n",
       " 0.23922200163992557,\n",
       " 0.12696887281455627,\n",
       " 0.00906159077049784]"
      ]
     },
     "execution_count": 36,
     "metadata": {},
     "output_type": "execute_result"
    }
   ],
   "source": [
    "listSumOne()"
   ]
  }
 ],
 "metadata": {
  "kernelspec": {
   "display_name": "Python [gl-env]",
   "language": "python",
   "name": "Python [gl-env]"
  },
  "language_info": {
   "codemirror_mode": {
    "name": "ipython",
    "version": 2
   },
   "file_extension": ".py",
   "mimetype": "text/x-python",
   "name": "python",
   "nbconvert_exporter": "python",
   "pygments_lexer": "ipython2",
   "version": "2.7.11"
  }
 },
 "nbformat": 4,
 "nbformat_minor": 0
}
