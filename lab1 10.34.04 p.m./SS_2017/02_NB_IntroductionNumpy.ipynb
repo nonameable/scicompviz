{
 "cells": [
  {
   "cell_type": "markdown",
   "metadata": {},
   "source": [
    "<!-- <img src=\"files/images/python-screenshot.jpg\" width=\"600\"> -->\n",
    "<img src=\"imgs/header.png\">"
   ]
  },
  {
   "cell_type": "markdown",
   "metadata": {},
   "source": [
    "## Basics of Numerical Python Arrays (numpy)\n",
    "\n",
    "### 1. In-place Arithmetics"
   ]
  },
  {
   "cell_type": "code",
   "execution_count": 20,
   "metadata": {
    "collapsed": true
   },
   "outputs": [],
   "source": [
    "import numpy as np"
   ]
  },
  {
   "cell_type": "markdown",
   "metadata": {},
   "source": [
    "#### Case 1: a = a+b \n",
    "The sum is first computed and resulting in a new array and the a is bound to the new array"
   ]
  },
  {
   "cell_type": "code",
   "execution_count": 22,
   "metadata": {
    "collapsed": false
   },
   "outputs": [
    {
     "name": "stdout",
     "output_type": "stream",
     "text": [
      "[      0       1       2 ..., 9999997 9999998 9999999]\n",
      "[9999999 9999998 9999997 ...,       2       1       0]\n"
     ]
    }
   ],
   "source": [
    "a = np.array(range(10000000))\n",
    "b = np.array(range(9999999,-1,-1))\n",
    "print(a)\n",
    "print(b)"
   ]
  },
  {
   "cell_type": "code",
   "execution_count": 25,
   "metadata": {
    "collapsed": false
   },
   "outputs": [
    {
     "name": "stdout",
     "output_type": "stream",
     "text": [
      "[9999999 9999999 9999999 ..., 9999999 9999999 9999999]\n",
      "CPU times: user 23.2 ms, sys: 13.5 ms, total: 36.7 ms\n",
      "Wall time: 35 ms\n"
     ]
    }
   ],
   "source": [
    "%%time\n",
    "c = a + b\n",
    "print(c)"
   ]
  },
  {
   "cell_type": "markdown",
   "metadata": {},
   "source": [
    "#### Case 2: a += b \n",
    "The elements of b are directly added into the elements of a (in memory) - no intermediate array. These operators implement the so-called \"in-place arithmetics\" (e.g., +=, *=, /=, -= )  "
   ]
  },
  {
   "cell_type": "code",
   "execution_count": null,
   "metadata": {
    "collapsed": true
   },
   "outputs": [],
   "source": [
    "a = np.array(range(10000000))\n",
    "b = np.array(range(9999999,-1,-1))"
   ]
  },
  {
   "cell_type": "code",
   "execution_count": 26,
   "metadata": {
    "collapsed": false
   },
   "outputs": [
    {
     "name": "stdout",
     "output_type": "stream",
     "text": [
      "CPU times: user 14.2 ms, sys: 990 µs, total: 15.1 ms\n",
      "Wall time: 13.7 ms\n"
     ]
    }
   ],
   "source": [
    "%%time\n",
    "a +=b "
   ]
  },
  {
   "cell_type": "markdown",
   "metadata": {},
   "source": [
    "### 2. Vectorization"
   ]
  },
  {
   "cell_type": "code",
   "execution_count": 29,
   "metadata": {
    "collapsed": false
   },
   "outputs": [
    {
     "name": "stdout",
     "output_type": "stream",
     "text": [
      "[  5.45981446e+08   5.45981446e+08   5.45981446e+08 ...,   5.45981446e+08\n",
      "   5.45981446e+08   5.45981446e+08]\n"
     ]
    }
   ],
   "source": [
    "#Apply function to a complete array instead of writing loop to iterate over all elements of the array. \n",
    "#This is called vectorization. The opposite of vectorization (for loops) is known as the scalar implementation\n",
    "\n",
    "def f(x):\n",
    "    return x*np.exp(4)\n",
    "\n",
    "print(f(a))"
   ]
  },
  {
   "cell_type": "markdown",
   "metadata": {},
   "source": [
    "### 3. Slicing and reshape"
   ]
  },
  {
   "cell_type": "markdown",
   "metadata": {},
   "source": [
    "#### Array slicing\n",
    "    x[i:j:s] \n",
    "picks out the elements starting with index i and stepping s indices at the time up to, but not including, j.\n",
    "\n",
    "Take into account that -1 is the last element (think of it as going backwards)"
   ]
  },
  {
   "cell_type": "code",
   "execution_count": 40,
   "metadata": {
    "collapsed": false
   },
   "outputs": [
    {
     "name": "stdout",
     "output_type": "stream",
     "text": [
      "[ 1  2  3  4  5  6  7  8  9 10 11 12 13 14 15 16 17 18 19 20 21 22 23 24 25\n",
      " 26 27 28 29 30 31 32 33 34 35 36 37 38 39 40 41 42 43 44 45 46 47 48 49 50\n",
      " 51 52 53 54 55 56 57 58 59 60 61 62 63 64 65 66 67 68 69 70 71 72 73 74 75\n",
      " 76 77 78 79 80 81 82 83 84 85 86 87 88 89 90 91 92 93 94 95 96 97 98]\n",
      "[ 0  2  4  6  8 10 12 14 16 18 20 22 24 26 28 30 32 34 36 38 40 42 44 46 48\n",
      " 50 52 54 56 58 60 62 64 66 68 70 72 74 76 78 80 82 84 86 88 90 92 94 96 98]\n",
      "[ 0  3  6  9 12 15 18 21 24 27 30 33 36 39 42 45 48 51 54 57 60 63 66 69 72\n",
      " 75 78 81 84 87 90 93 96 99]\n",
      "[ 0  3  6  9 12 15 18 21 24 27 30 33 36 39 42 45 48 51 54 57 60 63 66 69 72\n",
      " 75 78 81 84 87 90 93 96 99]\n"
     ]
    },
    {
     "data": {
      "text/plain": [
       "array([ 0,  4,  8, 12, 16, 20, 24, 28, 32, 36, 40, 44, 48, 52, 56, 60, 64,\n",
       "       68, 72, 76, 80, 84, 88, 92, 96])"
      ]
     },
     "execution_count": 40,
     "metadata": {},
     "output_type": "execute_result"
    }
   ],
   "source": [
    "x = np.array(range(100))\n",
    "#print(x)\n",
    "q = x[1:-1] # picks out all elements except the first and the last, but contrary to lists, a[1:-1] is not a copy of the data in a.\n",
    "print(q)\n",
    "p = x[0:-1:2] # picks out every two elements up to, but not including the last element\n",
    "print(p)\n",
    "w = x[0:len(x):3] # picks out every three elements up to the last element (explicit)\n",
    "print(w)\n",
    "z = x[0::3] # picks out every three elements up to the last element (implicit)\n",
    "print(z)\n",
    "x[::4] # picks out every four elements in the whole array."
   ]
  },
  {
   "cell_type": "markdown",
   "metadata": {},
   "source": [
    "#### Array shape manipulation\n",
    "\n",
    "We can transform the array into a vector of more dimensions while preserving the number of elements inside the vector"
   ]
  },
  {
   "cell_type": "code",
   "execution_count": 48,
   "metadata": {
    "collapsed": false
   },
   "outputs": [
    {
     "name": "stdout",
     "output_type": "stream",
     "text": [
      "[-1.  -0.6 -0.2  0.2  0.6  1. ]\n",
      "(2, 3)\n",
      "[[-1.  -0.6 -0.2]\n",
      " [ 0.2  0.6  1. ]]\n"
     ]
    }
   ],
   "source": [
    "a = np.linspace(-1, 1, 6) #returns 6 numbers inside the inclusive range given by the first two parameters\n",
    "print (a)\n",
    "\n",
    "a.shape\n",
    "a.size\n",
    "\n",
    "# rows, columns\n",
    "a.shape = (2, 3) \n",
    "#a = a.reshape(2, 3) # alternative\n",
    "\n",
    "print(a.shape)\n",
    "print (a)\n",
    "\n",
    "# len(a) always returns the length of the first dimension of an array. -> no. of rows"
   ]
  },
  {
   "cell_type": "markdown",
   "metadata": {
    "collapsed": true
   },
   "source": [
    "## Exercise\n",
    "### 1. Create a 10x10 2d array with 1 on the border and 0 inside"
   ]
  },
  {
   "cell_type": "code",
   "execution_count": 50,
   "metadata": {
    "collapsed": false
   },
   "outputs": [
    {
     "name": "stdout",
     "output_type": "stream",
     "text": [
      "[[ 1.  1.  1.  1.  1.  1.  1.  1.  1.  1.]\n",
      " [ 1.  0.  0.  0.  0.  0.  0.  0.  0.  1.]\n",
      " [ 1.  0.  0.  0.  0.  0.  0.  0.  0.  1.]\n",
      " [ 1.  0.  0.  0.  0.  0.  0.  0.  0.  1.]\n",
      " [ 1.  0.  0.  0.  0.  0.  0.  0.  0.  1.]\n",
      " [ 1.  0.  0.  0.  0.  0.  0.  0.  0.  1.]\n",
      " [ 1.  0.  0.  0.  0.  0.  0.  0.  0.  1.]\n",
      " [ 1.  0.  0.  0.  0.  0.  0.  0.  0.  1.]\n",
      " [ 1.  0.  0.  0.  0.  0.  0.  0.  0.  1.]\n",
      " [ 1.  1.  1.  1.  1.  1.  1.  1.  1.  1.]]\n"
     ]
    }
   ],
   "source": [
    "Z = np.ones((10,10)) # similar to matlab\n",
    "Z[1:-1,1:-1] = 0 # up until, but not including, the last element in both dimensions\n",
    "print(Z)"
   ]
  },
  {
   "cell_type": "markdown",
   "metadata": {},
   "source": [
    "### 2. Create a structured array representing a position (x,y) and a color (r,g,b)\n",
    "\n",
    "Docs here: https://docs.scipy.org/doc/numpy/user/basics.rec.html"
   ]
  },
  {
   "cell_type": "code",
   "execution_count": 67,
   "metadata": {
    "collapsed": false
   },
   "outputs": [
    {
     "name": "stdout",
     "output_type": "stream",
     "text": [
      "[(([0, 0], 0.0), (0.0, 0.0, 0.0)) (([0, 0], 0.0), (0.0, 0.0, 0.0))\n",
      " (([0, 0], 0.0), (0.0, 0.0, 0.0))]\n",
      "<type 'numpy.ndarray'>\n",
      "-----------------------------------------\n",
      "[('position', [('x_vector', <type 'int'>, 2), ('y', <type 'float'>, 1)]), ('color', [('r', <type 'float'>, 1), ('g', <type 'float'>, 1), ('b', <type 'float'>, 1)])]\n",
      "<type 'list'>\n"
     ]
    }
   ],
   "source": [
    "Z = np.zeros(3, [ ('position', [ ('x_vector', int, 2),\n",
    "                                   ('y', float, 1)]),\n",
    "                    ('color',    [ ('r', float, 1),\n",
    "                                   ('g', float, 1),\n",
    "                                   ('b', float, 1)])])\n",
    "print(Z)\n",
    "print(type(Z))\n",
    "\n",
    "\n",
    "print(\"-----------------------------------------\")\n",
    "\n",
    "J = [ ('position', [ ('x_vector', int, 2),\n",
    "                                   ('y', float, 1)]),\n",
    "                    ('color',    [ ('r', float, 1),\n",
    "                                   ('g', float, 1),\n",
    "                                   ('b', float, 1)])]\n",
    "print(J)\n",
    "print(type(J))"
   ]
  },
  {
   "cell_type": "markdown",
   "metadata": {},
   "source": [
    "### 3. Consider a large vector Z, compute Z to the power of 3 using 2 different methods"
   ]
  },
  {
   "cell_type": "code",
   "execution_count": null,
   "metadata": {
    "collapsed": true
   },
   "outputs": [],
   "source": [
    "x = np.random.rand(5e7)\n",
    "\n",
    "%timeit np.power(x,3)\n",
    "%timeit x*x*x"
   ]
  }
 ],
 "metadata": {
  "anaconda-cloud": {},
  "kernelspec": {
   "display_name": "Python [gl-env]",
   "language": "python",
   "name": "Python [gl-env]"
  },
  "language_info": {
   "codemirror_mode": {
    "name": "ipython",
    "version": 2
   },
   "file_extension": ".py",
   "mimetype": "text/x-python",
   "name": "python",
   "nbconvert_exporter": "python",
   "pygments_lexer": "ipython2",
   "version": "2.7.11"
  }
 },
 "nbformat": 4,
 "nbformat_minor": 1
}
