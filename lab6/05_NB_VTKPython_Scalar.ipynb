{
 "cells": [
  {
   "cell_type": "markdown",
   "metadata": {},
   "source": [
    "<img src=\"imgs/header.png\">"
   ]
  },
  {
   "cell_type": "markdown",
   "metadata": {},
   "source": [
    "## Visualization techniques for scalar fields in VTK + Python"
   ]
  },
  {
   "cell_type": "markdown",
   "metadata": {},
   "source": [
    "### Recap: The VTK pipeline\n",
    "\n",
    "<img src=\"imgs/vtk_pipeline.png\", align=left>\n",
    "$~$"
   ]
  },
  {
   "cell_type": "markdown",
   "metadata": {},
   "source": [
    "## Visualizing data within a rectilinear grid\n",
    "The following code snippets show step by step the how to create a pipeline to visualize the outline of a rectilinear grid. "
   ]
  },
  {
   "cell_type": "code",
   "execution_count": 90,
   "metadata": {
    "collapsed": true
   },
   "outputs": [],
   "source": [
    "%gui qt\n",
    "import vtk\n",
    "from vtkviewer import SimpleVtkViewer\n",
    "#help(vtk.vtkRectilinearGridReader())"
   ]
  },
  {
   "cell_type": "markdown",
   "metadata": {},
   "source": [
    "### 1. Data input (source)"
   ]
  },
  {
   "cell_type": "code",
   "execution_count": 91,
   "metadata": {
    "collapsed": true
   },
   "outputs": [],
   "source": [
    "# do not forget to call \"Update()\" at the end of the reader\n",
    "rectGridReader = vtk.vtkRectilinearGridReader()\n",
    "rectGridReader.SetFileName(\"data/jet4_0.500.vtk\")\n",
    "rectGridReader.Update()"
   ]
  },
  {
   "cell_type": "markdown",
   "metadata": {},
   "source": [
    "### 2. Filters\n",
    "\n",
    "* __Filter 1:__ [vtkRectilinearGridOutlineFilter()](http://www.vtk.org/doc/nightly/html/classvtkRectilinearGridOutlineFilter.html) creates wireframe outline for a rectilinear grid."
   ]
  },
  {
   "cell_type": "code",
   "execution_count": 93,
   "metadata": {
    "collapsed": true
   },
   "outputs": [],
   "source": [
    "%qtconsole"
   ]
  },
  {
   "cell_type": "code",
   "execution_count": 92,
   "metadata": {
    "collapsed": true
   },
   "outputs": [],
   "source": [
    "rectGridOutline = vtk.vtkRectilinearGridOutlineFilter()\n",
    "rectGridOutline.SetInputData(rectGridReader.GetOutput())"
   ]
  },
  {
   "cell_type": "markdown",
   "metadata": {},
   "source": [
    "### 3. Mappers\n",
    "* __Mapper:__ [vtkPolyDataMapper()](http://www.vtk.org/doc/nightly/html/classvtkPolyDataMapper.html#details) maps vtkPolyData to graphics primitives."
   ]
  },
  {
   "cell_type": "code",
   "execution_count": 97,
   "metadata": {
    "collapsed": true
   },
   "outputs": [],
   "source": [
    "rectGridOutlineMapper = vtk.vtkPolyDataMapper()\n",
    "rectGridOutlineMapper.SetInputConnection(rectGridOutline.GetOutputPort())"
   ]
  },
  {
   "cell_type": "markdown",
   "metadata": {},
   "source": [
    "### 4. Actors"
   ]
  },
  {
   "cell_type": "code",
   "execution_count": 98,
   "metadata": {
    "collapsed": true
   },
   "outputs": [],
   "source": [
    "outlineActor = vtk.vtkActor()\n",
    "outlineActor.SetMapper(rectGridOutlineMapper)\n",
    "outlineActor.GetProperty().SetColor(0, 0, 0)"
   ]
  },
  {
   "cell_type": "markdown",
   "metadata": {},
   "source": [
    "### 5. Renderers and Windows"
   ]
  },
  {
   "cell_type": "code",
   "execution_count": 99,
   "metadata": {
    "collapsed": true
   },
   "outputs": [],
   "source": [
    "#Option 1: Default vtk render window\n",
    "renderer = vtk.vtkRenderer()\n",
    "renderer.SetBackground(0.5, 0.5, 0.5)\n",
    "renderer.AddActor(outlineActor)\n",
    "renderer.ResetCamera()\n",
    "\n",
    "renderWindow = vtk.vtkRenderWindow()\n",
    "renderWindow.AddRenderer(renderer)\n",
    "renderWindow.SetSize(500, 500)\n",
    "renderWindow.Render()\n",
    "\n",
    "iren = vtk.vtkRenderWindowInteractor()\n",
    "iren.SetRenderWindow(renderWindow)\n",
    "iren.Start()"
   ]
  },
  {
   "cell_type": "code",
   "execution_count": 83,
   "metadata": {
    "collapsed": true
   },
   "outputs": [],
   "source": [
    "#Option 2: Using the vtk-viewer for Jupyter to interactively modify the pipeline\n",
    "vtkSimpleWin = SimpleVtkViewer()\n",
    "vtkSimpleWin.resize(1000,800)\n",
    "vtkSimpleWin.hide_axes()\n",
    "\n",
    "vtkSimpleWin.add_actor(outlineActor)\n",
    "vtkSimpleWin.add_actor(gridGeomActor)\n",
    "\n",
    "vtkSimpleWin.ren.SetBackground(0.5, 0.5, 0.5)\n",
    "vtkSimpleWin.ren.ResetCamera()"
   ]
  },
  {
   "cell_type": "markdown",
   "metadata": {},
   "source": [
    "<font color='red'>__Trick:__</font> The autocomplete functionality in Jupyter is available by pressing the `Tab` button."
   ]
  },
  {
   "cell_type": "markdown",
   "metadata": {},
   "source": [
    "## Useful Resources\n",
    "\n",
    "http://www.vtk.org/Wiki/VTK/Examples/Python"
   ]
  }
 ],
 "metadata": {
  "kernelspec": {
   "display_name": "Python 3",
   "language": "python",
   "name": "python3"
  },
  "language_info": {
   "codemirror_mode": {
    "name": "ipython",
    "version": 3
   },
   "file_extension": ".py",
   "mimetype": "text/x-python",
   "name": "python",
   "nbconvert_exporter": "python",
   "pygments_lexer": "ipython3",
   "version": "3.6.1"
  }
 },
 "nbformat": 4,
 "nbformat_minor": 2
}
