{
 "cells": [
  {
   "cell_type": "markdown",
   "metadata": {},
   "source": [
    "This is a fast scrypt for starting a vtk visualization"
   ]
  },
  {
   "cell_type": "code",
   "execution_count": null,
   "metadata": {
    "collapsed": true
   },
   "outputs": [],
   "source": [
    "import vtk\n",
    "\n",
    "# create a rendering window and renderer\n",
    "renderer = vtk.vtkRenderer()\n",
    "renderer.SetBackground(0.5, 1.0, 0.5)\n",
    "\n",
    "renderWindow = vtk.vtkRenderWindow()\n",
    "renderWindow.SetSize(500, 500)\n",
    "renderWindow.AddRenderer(renderer)\n",
    "renderWindow.Render()\n",
    "\n",
    "# create or obtaining a data source(s)\n",
    "#cube = vtk.vtkCubeSource()\n",
    "\n",
    "# creating mappers\n",
    "#cubeMapper = vtk.vtkPolyDataMapper()\n",
    "#cubeMapper.SetInputConnection(cube.GetOutputPort())\n",
    "\n",
    "# creating actors \n",
    "#cubeActor = vtk.vtkActor()\n",
    "#cubeActor.SetMapper(cubeMapper)\n",
    "#cubeActor.GetProperty().SetColor(2, 1, 2)\n",
    "\n",
    "# adding actors to the redender\n",
    "#renderer.AddActor(cubeActor)\n",
    "\n",
    "# create and enable a renderWindowInteractor\n",
    "iren = vtk.vtkRenderWindowInteractor()\n",
    "iren.SetRenderWindow(renderWindow)\n",
    "iren.Start()\n",
    "\n",
    "\n",
    "\n",
    "\n"
   ]
  },
  {
   "cell_type": "markdown",
   "metadata": {},
   "source": [
    "### VTK-viewer module for Jupyter Notebook"
   ]
  },
  {
   "cell_type": "code",
   "execution_count": 1,
   "metadata": {
    "collapsed": false
   },
   "outputs": [],
   "source": [
    "#Source: https://gitlab.com/colonel_zentor/vtk-viewer\n",
    "\n",
    "%gui qt\n",
    "import vtk\n",
    "from vtkviewer import SimpleVtkViewer, create_test_actor\n",
    "\n",
    "vtkSourceSphere = vtk.vtkSphereSource()\n",
    "vtkSourceSphere.SetCenter(0.0, 0.0, 0.0)\n",
    "vtkSourceSphere.SetRadius(1.0)\n",
    "vtkSourceSphere.SetPhiResolution(60)\n",
    "vtkSourceSphere.SetThetaResolution(60)\n",
    "\n",
    "vtkMapperSphere = vtk.vtkPolyDataMapper()\n",
    "vtkMapperSphere.SetInputConnection(vtkSourceSphere.GetOutputPort())\n",
    "\n",
    "vtkActorSphere = vtk.vtkActor()\n",
    "vtkActorSphere.SetMapper(vtkMapperSphere)\n",
    "vtkActorSphere.GetProperty().SetColor(1.0, 0.0, 0.0)\n",
    "\n",
    "vtkSimpleWin = SimpleVtkViewer()\n",
    "vtkSimpleWin.add_actor(vtkActorSphere)\n",
    "vtkSimpleWin.hide_axes()"
   ]
  },
  {
   "cell_type": "code",
   "execution_count": 2,
   "metadata": {
    "collapsed": true
   },
   "outputs": [],
   "source": [
    "vtkActorSphere.GetProperty().SetColor(1.0, 1.0, 0.0)"
   ]
  },
  {
   "cell_type": "code",
   "execution_count": 3,
   "metadata": {
    "collapsed": true
   },
   "outputs": [],
   "source": [
    "vtkActorSphere.GetProperty().SetRepresentationToWireframe()"
   ]
  },
  {
   "cell_type": "code",
   "execution_count": 4,
   "metadata": {
    "collapsed": true
   },
   "outputs": [],
   "source": [
    "vtkSimpleWin.clear_view()"
   ]
  },
  {
   "cell_type": "code",
   "execution_count": 5,
   "metadata": {
    "collapsed": true
   },
   "outputs": [],
   "source": [
    "vtkSimpleWin.add_actor(vtkActorSphere)"
   ]
  },
  {
   "cell_type": "code",
   "execution_count": null,
   "metadata": {
    "collapsed": true
   },
   "outputs": [],
   "source": []
  }
 ],
 "metadata": {
  "anaconda-cloud": {},
  "kernelspec": {
   "display_name": "Python [sci]",
   "language": "python",
   "name": "Python [sci]"
  },
  "language_info": {
   "codemirror_mode": {
    "name": "ipython",
    "version": 3
   },
   "file_extension": ".py",
   "mimetype": "text/x-python",
   "name": "python",
   "nbconvert_exporter": "python",
   "pygments_lexer": "ipython3",
   "version": "3.6.1"
  }
 },
 "nbformat": 4,
 "nbformat_minor": 0
}
