{
 "cells": [
  {
   "cell_type": "markdown",
   "metadata": {},
   "source": [
    "Renders to a PNG image"
   ]
  },
  {
   "cell_type": "code",
   "execution_count": null,
   "metadata": {
    "collapsed": true
   },
   "outputs": [],
   "source": [
    "\n",
    "# ren.SomeFunction()\n",
    "# ren.SomeFunction()\n",
    "# ren.SomeFunction()\n",
    "# ren.SomeFunction()\n",
    "\n",
    "# we asume we have been working with the renderer and then we do:\n",
    "\n",
    "renderLarge = vtk.vtkRenderlargeImage()\n",
    "renderLarge.SetRenderer(ren)\n",
    "renderLarge.SetMagnification(4)\n",
    "\n",
    "# We write out the image, causing the rendering to occur. If you\n",
    "# watch yor screen you might see the pieces being rendered one \n",
    "# after another\n",
    "\n",
    "writer = vtk.vtkPNGWriter()\n",
    "writer.SetInputConnection(renderLarge.GetOutputPort())\n",
    "writer.SetFileName(\"largeImage.png\")\n",
    "writer.Write()\n",
    "\n",
    "\n",
    "# execute\n",
    "iren.Initialize()\n",
    "iren.Start()\n",
    "\n"
   ]
  }
 ],
 "metadata": {
  "kernelspec": {
   "display_name": "Python [sci]",
   "language": "python",
   "name": "Python [sci]"
  },
  "language_info": {
   "codemirror_mode": {
    "name": "ipython",
    "version": 3
   },
   "file_extension": ".py",
   "mimetype": "text/x-python",
   "name": "python",
   "nbconvert_exporter": "python",
   "pygments_lexer": "ipython3",
   "version": "3.6.1"
  }
 },
 "nbformat": 4,
 "nbformat_minor": 0
}
