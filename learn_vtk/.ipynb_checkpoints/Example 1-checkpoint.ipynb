{
 "cells": [
  {
   "cell_type": "markdown",
   "metadata": {},
   "source": [
    "Simple example to show how to do basic rendering and pipeline creation. It also demonstrates the use of LODActor"
   ]
  },
  {
   "cell_type": "code",
   "execution_count": null,
   "metadata": {
    "collapsed": true
   },
   "outputs": [],
   "source": [
    "# import the vtk module\n",
    "import vtk\n",
    "#from tk .util.misc import vtkGetDataRoot\n",
    "from vtk utils.colors import *\n",
    "\n",
    "# creates the source for the figure\n",
    "part = vtk.vtkSTLReader()\n",
    "part.SetFileName(\"42400-IDGH.stl\") # this file should be in the same directory....\n",
    "\n",
    "# The mapper is responsible for pushing the geometry into the graphics\n",
    "# library. It may also do color mapping, if scalars or other attributes are defined\n",
    "\n",
    "partMapper = vtk.vtkPolyDataMapper()\n",
    "partMapper.SetInputConnection(part.GetOutputPort())\n",
    "\n",
    "# Here we create the LODActor, which is an special kind of actor. It will change\n",
    "# appearence in order to render faster. At the highest resolution, it will render\n",
    "# everything just like an actor. The middle level is a point cloud and the lowest\n",
    "# level is a simple bounding box\n",
    "\n",
    "partActor = vtk.vtkLODActor()\n",
    "partActor.setMapper(partMapper)\n",
    "partActor.GetProperty().SetColor(light_gray)\n",
    "partActor.rotateX(30.0)\n",
    "partActor.rotateY(-45.0)\n",
    "\n",
    "# Create the graphics structure. The render renders into the render window, which\n",
    "# captures mouse events and perform camera or actor manipulation depending on the \n",
    "# nature of the events\n",
    "\n",
    "ren = vtk.vtkRenderer()\n",
    "renWin = vtk.vtkRenderWindow()\n",
    "renWin.AddRenderer(ren)\n",
    "iren = vtk.vtkRenderWindowInteractor()\n",
    "iren.setRenderWindow(renWin)\n",
    "\n",
    "# add actors to the renderer\n",
    "\n",
    "ren.AddActor(partActor)\n",
    "\n",
    "#set background and size\n",
    "ren.setBackground(0.1, 0.2, 0.4)\n",
    "renWin.setSize(200,200)\n",
    "\n",
    "#Change the zoom (so we are closer)\n",
    "ren.ResetCamera()\n",
    "ren.GetActiveCamera().Zoom(1.5)\n",
    "\n",
    "\n",
    "# initialize the event loop\n",
    "iren.initialize()\n",
    "renWin.Render()\n",
    "iren.Start()\n",
    "\n",
    "\n",
    "\n"
   ]
  }
 ],
 "metadata": {
  "anaconda-cloud": {},
  "kernelspec": {
   "display_name": "Python [sci]",
   "language": "python",
   "name": "Python [sci]"
  },
  "language_info": {
   "codemirror_mode": {
    "name": "ipython",
    "version": 3
   },
   "file_extension": ".py",
   "mimetype": "text/x-python",
   "name": "python",
   "nbconvert_exporter": "python",
   "pygments_lexer": "ipython3",
   "version": "3.6.1"
  }
 },
 "nbformat": 4,
 "nbformat_minor": 0
}
