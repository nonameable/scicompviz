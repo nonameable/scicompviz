{
 "cells": [
  {
   "cell_type": "code",
   "execution_count": null,
   "metadata": {
    "collapsed": true
   },
   "outputs": [],
   "source": [
    "# An outline provides context around data\n",
    "\n",
    "outlineData = vtk.vtkOutlineFilter()\n",
    "outlineData = vtk.SetInputConnection(v16.GetOutputPort())\n",
    "mapOutline = vtk.tkPolyDataMapper()\n",
    "mapOutline.SetInputConnection(outlineData.GetOutputPort())\n",
    "outline = vtkActor()\n",
    "outline.setMapper(mapOutline)\n",
    "outline.getProperty().SetColor(0,0,0)\n"
   ]
  }
 ],
 "metadata": {
  "kernelspec": {
   "display_name": "Python [sci]",
   "language": "python",
   "name": "Python [sci]"
  },
  "language_info": {
   "codemirror_mode": {
    "name": "ipython",
    "version": 3
   },
   "file_extension": ".py",
   "mimetype": "text/x-python",
   "name": "python",
   "nbconvert_exporter": "python",
   "pygments_lexer": "ipython3",
   "version": "3.6.1"
  }
 },
 "nbformat": 4,
 "nbformat_minor": 0
}
